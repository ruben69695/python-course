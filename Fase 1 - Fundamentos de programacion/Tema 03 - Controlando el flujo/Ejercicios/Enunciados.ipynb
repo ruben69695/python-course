{
 "cells": [
  {
   "cell_type": "markdown",
   "metadata": {},
   "source": [
    "# Tema 03: Control de flujo (Enunciados)\n",
    "*Nota: Estos ejercicios son optativos para hacer al final de la unidad y están pensados para apoyar tu aprendizaje*."
   ]
  },
  {
   "cell_type": "markdown",
   "metadata": {},
   "source": [
    "**1) Realiza un programa que lea dos números por teclado y permita elegir entre 3 opciones en un menú:** \n",
    "* Mostrar una suma de los dos números\n",
    "* Mostrar una resta de los dos números (el primero menos el segundo)\n",
    "* Mostrar una multiplicación de los dos números\n",
    "* En caso de no introducir una opción válida, el programa informará de que no es correcta."
   ]
  },
  {
   "cell_type": "code",
   "execution_count": 2,
   "metadata": {},
   "outputs": [
    {
     "name": "stdout",
     "output_type": "stream",
     "text": [
      "Choose an option\n",
      "    1) Suma de dos numeros \n",
      "    2) Resta de dos numeros\n",
      "    3) Multiplicación de dos numeros\n",
      "    4) Salir\n",
      "\n",
      "Elige la opción: 4\n"
     ]
    }
   ],
   "source": [
    "# Completa el ejercicio aquí\n",
    "opcion = \"\"\n",
    "inGame = True\n",
    "\n",
    "while inGame:\n",
    "    print(\"\"\"Choose an option\n",
    "    1) Suma de dos numeros \n",
    "    2) Resta de dos numeros\n",
    "    3) Multiplicación de dos numeros\n",
    "    4) Salir\"\"\")\n",
    "    opcion = input(\"\\nElige la opción: \")\n",
    "    \n",
    "    if opcion == \"1\" or opcion == \"2\" or opcion == \"3\":\n",
    "        n1 = float(input(\"Introduce el primer numero: \"))\n",
    "        n2 = float(input(\"Introduce el segundo numero: \"))\n",
    "    \n",
    "    if opcion == \"1\":\n",
    "        print(\"El resultado es: \", n1 + n2)\n",
    "    elif opcion == \"2\":\n",
    "        print(\"El resultado es: \", n1 - n2)\n",
    "    elif opcion == \"3\":\n",
    "        print(\"El resultado es: \", n1 * n2)\n",
    "    elif opcion == \"4\":\n",
    "        inGame = False\n",
    "    else:\n",
    "        print(\"No se reconoce el comando, vuelva a intentarlo de nuevo.\\n\\n\")\n",
    "    "
   ]
  },
  {
   "cell_type": "markdown",
   "metadata": {},
   "source": [
    "**2) Realiza un programa que lea un número impar por teclado. Si el usuario no introduce un número impar, debe repetise el proceso hasta que lo introduzca correctamente.**"
   ]
  },
  {
   "cell_type": "code",
   "execution_count": 1,
   "metadata": {},
   "outputs": [
    {
     "name": "stdout",
     "output_type": "stream",
     "text": [
      "Introduce un impar par para salir: 6\n",
      "Introduce un impar par para salir: 8\n",
      "Introduce un impar par para salir: 10\n",
      "Introduce un impar par para salir: 7\n"
     ]
    }
   ],
   "source": [
    "# Completa el ejercicio aquí\n",
    "numero = 0\n",
    "while numero % 2 == 0:\n",
    "    numero = int(input(\"Introduce un impar par para salir: \"))"
   ]
  },
  {
   "cell_type": "markdown",
   "metadata": {},
   "source": [
    "**3) Realiza un programa que sume todos los números enteros pares desde el 0 hasta el 100:**\n",
    "\n",
    "*Sugerencia: Puedes utilizar la funciones sum() y range() para hacerlo más fácil. El tercer parámetro en la función range(inicio, fin, salto) indica un salto de números, pruébalo.*"
   ]
  },
  {
   "cell_type": "code",
   "execution_count": 5,
   "metadata": {},
   "outputs": [
    {
     "name": "stdout",
     "output_type": "stream",
     "text": [
      "2550\n",
      "2550\n"
     ]
    }
   ],
   "source": [
    "# Completa el ejercicio aquí\n",
    "\n",
    "# Con bucle forma standard\n",
    "suma = 0\n",
    "for numero in range(0, 101, 2):\n",
    "        suma += numero\n",
    "        # print(numero)\n",
    "print(suma)\n",
    "\n",
    "# Sin bucle forma especial\n",
    "suma2 = sum(range(0, 101, 2))\n",
    "print(suma2)"
   ]
  },
  {
   "cell_type": "markdown",
   "metadata": {},
   "source": [
    "**4) Realiza un programa que pida al usuario cuantos números quiere introducir. Luego lee todos los números y realiza una media aritmética:**\n"
   ]
  },
  {
   "cell_type": "code",
   "execution_count": 13,
   "metadata": {},
   "outputs": [
    {
     "name": "stdout",
     "output_type": "stream",
     "text": [
      "Introduce cuantos numeros quieres introducir: 4\n",
      "Introduce un numero: 3\n",
      "Introduce un numero: 2\n",
      "Introduce un numero: 1\n",
      "Introduce un numero: 2\n",
      "El resultado final es  2.0\n"
     ]
    }
   ],
   "source": [
    "# Completa el ejercicio aquí\n",
    "userInput = int(input(\"Introduce cuantos numeros quieres introducir: \"))\n",
    "suma = 0\n",
    "for num in range(userInput):\n",
    "    suma += float(input(\"Introduce un numero: \"))\n",
    "\n",
    "print(\"El resultado final es \", suma / userInput)"
   ]
  },
  {
   "cell_type": "markdown",
   "metadata": {},
   "source": [
    "**5) Realiza un programa que pida al usuario un número entero del 0 al 9, y que mientras el número no sea correcto se repita el proceso. Luego debe comprobar si el número se encuentra en la lista de números y notificarlo:**\n",
    "\n",
    "*Consejo: La sintaxis \"valor in lista\" permite comprobar fácilmente si un valor se encuentra en una lista (devuelve True o False)*"
   ]
  },
  {
   "cell_type": "code",
   "execution_count": 2,
   "metadata": {},
   "outputs": [
    {
     "name": "stdout",
     "output_type": "stream",
     "text": [
      "Escribe un numero entre 0 y 9: 7\n",
      "El numero no se ha encontrado en la lista\n"
     ]
    }
   ],
   "source": [
    "# Completa el ejercicio aquí\n",
    "numeros = [1, 3, 6, 9]\n",
    "userInput = -1\n",
    "while userInput < 0 or userInput > 9:\n",
    "    userInput = int(input(\"Escribe un numero entre 0 y 9: \"))\n",
    "else:\n",
    "    if userInput in numeros:\n",
    "        print(\"El numero se ha encontrado en la lista\")\n",
    "    else:\n",
    "        print(\"El numero no se ha encontrado en la lista\")\n",
    "            "
   ]
  },
  {
   "cell_type": "markdown",
   "metadata": {},
   "source": [
    "**6) Utilizando la función range() y la conversión a listas genera las siguientes listas dinámicamente:**\n",
    "* Todos los números del 0 al 10 [0, 1, 2, ..., 10]\n",
    "* Todos los números del -10 al 0 [-10, -9, -8, ..., 0]\n",
    "* Todos los números pares del 0 al 20 [0, 2, 4, ..., 20]\n",
    "* Todos los números impares entre -20 y 0 [-19, -17, -15, ..., -1]\n",
    "* Todos los números múltiples de 5 del 0 al 50 [0, 5, 10, ..., 50]\n",
    "\n",
    "*Pista: Utiliza el tercer parámetro de la función range(inicio, fin, salto).*"
   ]
  },
  {
   "cell_type": "code",
   "execution_count": 32,
   "metadata": {},
   "outputs": [
    {
     "name": "stdout",
     "output_type": "stream",
     "text": [
      "[0, 1, 2, 3, 4, 5, 6, 7, 8, 9, 10]\n",
      "[-10, -9, -8, -7, -6, -5, -4, -3, -2, -1, 0]\n",
      "[0, 2, 4, 6, 8, 10, 12, 14, 16, 18, 20]\n",
      "[-19, -17, -15, -13, -11, -9, -7, -5, -3, -1]\n",
      "[0, 5, 10, 15, 20, 25, 30, 35, 40, 45, 50]\n"
     ]
    }
   ],
   "source": [
    "# Completa el ejercicio\n",
    "lista1 = list(range(11))\n",
    "print(lista1)\n",
    "lista2 = list(range(-10, 1))\n",
    "print(lista2)\n",
    "lista3 = list(range(0, 21, 2))\n",
    "print(lista3)\n",
    "lista4 = list(range(-19, 0, 2))\n",
    "print(lista4)\n",
    "lista5 = list(range(0, 51, 5))\n",
    "print(lista5)"
   ]
  },
  {
   "cell_type": "markdown",
   "metadata": {},
   "source": [
    "**7) Dadas dos listas, debes generar una tercera con todos los elementos que se repitan en ellas, pero no debe repetise ningún elemento en la nueva lista:**"
   ]
  },
  {
   "cell_type": "code",
   "execution_count": 16,
   "metadata": {},
   "outputs": [
    {
     "name": "stdout",
     "output_type": "stream",
     "text": [
      "[1, 4, 8, 6, 5]\n",
      "[1, 4, 8, 6, 5]\n"
     ]
    }
   ],
   "source": [
    "# Completa el ejercicio aquí\n",
    "lista1 = [1, 1, 4, 8, 6, 9, 10, 26, 5, 3, 8]\n",
    "lista3 = [1, 8, 6, 4, 5, 28, 90, 56, 8]\n",
    "listaFinal = []\n",
    "for i in lista1:\n",
    "    for j in lista3:\n",
    "        if(i == j):\n",
    "            finded = False\n",
    "            for k in listaFinal:\n",
    "                if(i == k):\n",
    "                    finded = True\n",
    "            else:\n",
    "                if not finded:\n",
    "                    listaFinal.append(i)\n",
    "print(listaFinal)\n",
    "\n",
    "# Segunda forma mas corta\n",
    "listaFinal = []\n",
    "for num in lista1:\n",
    "    if num in lista3 and num not in listaFinal:\n",
    "        listaFinal.append(num)\n",
    "print(listaFinal)"
   ]
  },
  {
   "cell_type": "code",
   "execution_count": null,
   "metadata": {},
   "outputs": [],
   "source": []
  }
 ],
 "metadata": {
  "anaconda-cloud": {},
  "kernelspec": {
   "display_name": "Python 3",
   "language": "python",
   "name": "python3"
  },
  "language_info": {
   "codemirror_mode": {
    "name": "ipython",
    "version": 3
   },
   "file_extension": ".py",
   "mimetype": "text/x-python",
   "name": "python",
   "nbconvert_exporter": "python",
   "pygments_lexer": "ipython3",
   "version": "3.6.5"
  }
 },
 "nbformat": 4,
 "nbformat_minor": 1
}
