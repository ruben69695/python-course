{
 "cells": [
  {
   "cell_type": "code",
   "execution_count": 1,
   "metadata": {
    "collapsed": false
   },
   "outputs": [
    {
     "name": "stdout",
     "output_type": "stream",
     "text": [
      "C vale  1\n",
      "C vale  2\n",
      "C vale  3\n",
      "C vale  4\n",
      "C vale  5\n",
      "C vale  6\n"
     ]
    }
   ],
   "source": [
    "c = 0\n",
    "while c <= 5:\n",
    "    c+=1\n",
    "    print(\"C vale \", c)"
   ]
  },
  {
   "cell_type": "code",
   "execution_count": 2,
   "metadata": {
    "collapsed": false
   },
   "outputs": [
    {
     "name": "stdout",
     "output_type": "stream",
     "text": [
      "C vale  1\n",
      "C vale  2\n",
      "C vale  3\n",
      "C vale  4\n",
      "C vale  5\n",
      "C vale  6\n",
      "Se ha completado toda la iteración y C vale  6\n"
     ]
    }
   ],
   "source": [
    "c = 0\n",
    "while c <= 5:\n",
    "    c+=1\n",
    "    print(\"C vale \", c)\n",
    "else:\n",
    "    print(\"Se ha completado toda la iteración y C vale \", c)"
   ]
  },
  {
   "cell_type": "code",
   "execution_count": 3,
   "metadata": {
    "collapsed": false
   },
   "outputs": [
    {
     "name": "stdout",
     "output_type": "stream",
     "text": [
      "C vale  1\n",
      "Rompemos el bucle cuando C vale  2\n"
     ]
    }
   ],
   "source": [
    "c = 0\n",
    "while c <= 5:\n",
    "    c+=1\n",
    "    if (c == 2):\n",
    "        print(\"Rompemos el bucle cuando C vale \", c)\n",
    "        break\n",
    "    print(\"C vale \", c)\n",
    "else:\n",
    "    print(\"Se ha completado toda la iteración y C vale \", c)"
   ]
  },
  {
   "cell_type": "code",
   "execution_count": 4,
   "metadata": {
    "collapsed": false
   },
   "outputs": [
    {
     "name": "stdout",
     "output_type": "stream",
     "text": [
      "C vale  1\n",
      "C vale  2\n",
      "C vale  3\n",
      "Continuamos con la siguiente iteración cuando C vale  4\n",
      "C vale  5\n",
      "C vale  6\n",
      "Se ha completado toda la iteración y C vale  6\n"
     ]
    }
   ],
   "source": [
    "c = 0\n",
    "while c <= 5:\n",
    "    c+=1\n",
    "    if (c == 4):\n",
    "        print(\"Continuamos con la siguiente iteración cuando C vale \", c)\n",
    "        continue\n",
    "    print(\"C vale \", c)\n",
    "else:\n",
    "    print(\"Se ha completado toda la iteración y C vale \", c)"
   ]
  },
  {
   "cell_type": "code",
   "execution_count": 8,
   "metadata": {
    "collapsed": false
   },
   "outputs": [
    {
     "name": "stdout",
     "output_type": "stream",
     "text": [
      "Benvenido al menú interactivo\n",
      "¿Que quieres hacer? Escribe una opción\n",
      "    1) Saludar\n",
      "    2) Sumar dos numeros\n",
      "    3) Salir\n",
      "1\n",
      "Hola espero que te lo estes pasando bien\n",
      "¿Que quieres hacer? Escribe una opción\n",
      "    1) Saludar\n",
      "    2) Sumar dos numeros\n",
      "    3) Salir\n",
      "2\n",
      "Introduce el primer numero10\n",
      "Introduce el segundo numero5\n",
      "El resultado de la suma es  15.0\n",
      "¿Que quieres hacer? Escribe una opción\n",
      "    1) Saludar\n",
      "    2) Sumar dos numeros\n",
      "    3) Salir\n",
      "3\n",
      "¡Hasta luego ha sido un placer ayudarte\n"
     ]
    }
   ],
   "source": [
    "print(\"Benvenido al menú interactivo\")\n",
    "while(True):\n",
    "    print(\"\"\"¿Que quieres hacer? Escribe una opción\n",
    "    1) Saludar\n",
    "    2) Sumar dos numeros\n",
    "    3) Salir\"\"\")\n",
    "    opcion = int(input())\n",
    "    if opcion == 1:\n",
    "        print(\"Hola espero que te lo estes pasando bien\")\n",
    "    elif opcion == 2:\n",
    "        n1 = float(input(\"Introduce el primer numero\"))\n",
    "        n2 = float(input(\"Introduce el segundo numero\"))\n",
    "        print(\"El resultado de la suma es \", n1 + n2)\n",
    "    elif opcion == 3:\n",
    "        print(\"¡Hasta luego ha sido un placer ayudarte\")\n",
    "        break\n",
    "    else:\n",
    "        print(\"Comando desconocido, vuelve a intentarlo\")"
   ]
  },
  {
   "cell_type": "code",
   "execution_count": null,
   "metadata": {
    "collapsed": true
   },
   "outputs": [],
   "source": []
  }
 ],
 "metadata": {
  "kernelspec": {
   "display_name": "Python 3",
   "language": "python",
   "name": "python3"
  },
  "language_info": {
   "codemirror_mode": {
    "name": "ipython",
    "version": 3
   },
   "file_extension": ".py",
   "mimetype": "text/x-python",
   "name": "python",
   "nbconvert_exporter": "python",
   "pygments_lexer": "ipython3",
   "version": "3.6.0"
  }
 },
 "nbformat": 4,
 "nbformat_minor": 0
}
