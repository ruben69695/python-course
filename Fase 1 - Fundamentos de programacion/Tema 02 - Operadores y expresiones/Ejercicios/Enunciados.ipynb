{
 "cells": [
  {
   "cell_type": "markdown",
   "metadata": {},
   "source": [
    "# Tema 02: Operadores y expresiones (Enunciados)\n",
    "*Nota: Estos ejercicios son optativos para hacer al final de la unidad y están pensados para apoyar tu aprendizaje*."
   ]
  },
  {
   "cell_type": "markdown",
   "metadata": {},
   "source": [
    "**1) Realiza un programa que lea 2 números por teclado y determine los siguientes aspectos (es suficiene con mostrar True o False):**\n",
    "* Si los dos números son iguales\n",
    "* Si los dos números son diferentes\n",
    "* Si el primero es mayor que el segundo\n",
    "* Si el segundo es mayor o igual que el primero"
   ]
  },
  {
   "cell_type": "code",
   "execution_count": 3,
   "metadata": {
    "collapsed": false
   },
   "outputs": [
    {
     "name": "stdout",
     "output_type": "stream",
     "text": [
      "15\n",
      "23\n",
      "False\n",
      "True\n",
      "False\n",
      "True\n"
     ]
    }
   ],
   "source": [
    "# Completa el ejercicio aquí\n",
    "a = input()\n",
    "b = input()\n",
    "\n",
    "print(a == b)\n",
    "print(a != b)\n",
    "print(a > b)\n",
    "print(b >= a)\n"
   ]
  },
  {
   "cell_type": "markdown",
   "metadata": {},
   "source": [
    "**2) Utilizando operadores lógicos, determina si una cadena de texto introducida por el usuario tiene una longitud mayor o igual que 3 y a su vez es menor que 10 (es suficiene con mostrar True o False):**"
   ]
  },
  {
   "cell_type": "code",
   "execution_count": 4,
   "metadata": {
    "collapsed": false
   },
   "outputs": [
    {
     "name": "stdout",
     "output_type": "stream",
     "text": [
      "me llamo earl\n",
      "False\n"
     ]
    }
   ],
   "source": [
    "# Completa el ejercicio aquí\n",
    "cadena = input()\n",
    "print(len(cadena) >= 3 and len(cadena) < 10)"
   ]
  },
  {
   "cell_type": "markdown",
   "metadata": {},
   "source": [
    "**3) Realiza un programa que cumpla el siguiente algoritmo utilizando siempre que sea posible operadores en asignación:**\n",
    "* Guarda en una variable numero_magico el valor 12345679 (sin el 8)\n",
    "* Lee por pantalla otro numero_usuario, especifica que sea entre 1 y 9 (asegúrate que es un número)\n",
    "* Multiplica el numero_usuario por 9 en sí mismo\n",
    "* Multiplica el numero_magico por el numero_usuario en sí mismo\n",
    "* Finalmente muestra el valor final del numero_magico por pantalla\n"
   ]
  },
  {
   "cell_type": "code",
   "execution_count": 10,
   "metadata": {
    "collapsed": false
   },
   "outputs": [
    {
     "name": "stdout",
     "output_type": "stream",
     "text": [
      "Escribe un numero entre 1 y 9\n",
      "5\n",
      "El numero final es  555555555\n"
     ]
    }
   ],
   "source": [
    "# Completa el ejercicio aquí\n",
    "numero_magico = 12345679\n",
    "numero_usuario = 9 * int(input(\"Escribe un numero entre 1 y 9\\n\"))\n",
    "numero_magico *= numero_usuario\n",
    "print(\"El numero final es \", numero_magico)\n"
   ]
  },
  {
   "cell_type": "code",
   "execution_count": null,
   "metadata": {
    "collapsed": true
   },
   "outputs": [],
   "source": []
  }
 ],
 "metadata": {
  "anaconda-cloud": {},
  "kernelspec": {
   "display_name": "Python 3",
   "language": "python",
   "name": "python3"
  },
  "language_info": {
   "codemirror_mode": {
    "name": "ipython",
    "version": 3
   },
   "file_extension": ".py",
   "mimetype": "text/x-python",
   "name": "python",
   "nbconvert_exporter": "python",
   "pygments_lexer": "ipython3",
   "version": "3.6.0"
  }
 },
 "nbformat": 4,
 "nbformat_minor": 0
}
