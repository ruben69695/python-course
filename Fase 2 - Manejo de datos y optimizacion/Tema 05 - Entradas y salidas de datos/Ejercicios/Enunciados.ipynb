{
 "cells": [
  {
   "cell_type": "markdown",
   "metadata": {},
   "source": [
    "# Tema 05: Entradas y salidas (Enunciados)\n",
    "*Nota: Estos ejercicios son optativos para hacer al final de la unidad y están pensados para apoyar tu aprendizaje*."
   ]
  },
  {
   "cell_type": "markdown",
   "metadata": {},
   "source": [
    "**1) Formatea los siguientes valores para mostrar el resultado indicado:**\n",
    "\n",
    "* \"Hola Mundo\" → Alineado a la derecha en 20 caracteres\n",
    "* \"Hola Mundo\" → Truncamiento en el cuarto carácter (índice 3)\n",
    "* \"Hola Mundo\" → Alineamiento al centro en 20 caracteres con truncamiento en el segundo carácter (índice 1)\n",
    "* 150 → Formateo a 5 números enteros rellenados con ceros\n",
    "* 7887 → Formateo a 7 números enteros rellenados con espacios\n",
    "* 20.02 → Formateo a 3 números enteros y 3 números decimales"
   ]
  },
  {
   "cell_type": "code",
   "execution_count": 3,
   "metadata": {
    "scrolled": true
   },
   "outputs": [
    {
     "name": "stdout",
     "output_type": "stream",
     "text": [
      "          Hola Mundo\n",
      "Hol\n",
      "         H          \n",
      "00150\n",
      "   7887\n",
      "020.020\n"
     ]
    }
   ],
   "source": [
    "# Completa el ejercicio aquí\n",
    "print( \"{:>20}\".format(\"Hola Mundo\") )\n",
    "print( \"{:.3}\".format(\"Hola Mundo\") )\n",
    "print( \"{:^20.1}\".format(\"Hola Mundo\") )\n",
    "print( \"{:05d}\".format(150) )\n",
    "print( \"{:7d}\".format(7887) )\n",
    "print( \"{:07.3f}\".format(20.02) )"
   ]
  },
  {
   "cell_type": "markdown",
   "metadata": {},
   "source": [
    "**2) Crea un script llamado tabla.py que realice las siguientes tareas:**\n",
    "* Debe tomar 2 argumentos, ambos números enteros positivos del 1 al 9, sino mostrará un error.\n",
    "* El primer argumento hará referencia a las filas de una tabla, el segundo a las columnas.\n",
    "* En caso de no recibir uno o ambos argumentos, debe mostrar información acerca de cómo utilizar el script.\n",
    "* El script contendrá un bucle for que itere el número de veces del primer argumento.\n",
    "* Dentro del for, añade un segundo for que itere el número de veces del segundo argumento.\n",
    "* Dentro del segundo for ejecuta una instrucción ** print(\" * \", end='')**, (end='' evita el salto de línea).\n",
    "* Ejecuta el código y observa el resultado.\n",
    "\n",
    "** Ahora intenta deducir dónde y cómo añadir otra instruccion print para dibujar una tabla.**\n",
    "\n",
    "*Recordatorio: Los argumentos se envían como cadenas separadas por espacios, si quieres enviar varias palabras como un argumento deberás indicarlas entre comillas dobles \"esto es un argumento\". Para capturar los argumentos debes utilizar el módulo **sys** y su lista **argv**:*\n",
    "```python\n",
    "import sys\n",
    "\n",
    "args = sys.argv\n",
    "\n",
    "# Check the number of arguments received\n",
    "if len(args) >= 3:\n",
    "    rows = int(args[1])\n",
    "    columns = int(args[2])\n",
    "    if rows >= 1 and rows < 10:\n",
    "        if columns >= 1 and columns < 10:\n",
    "            for row in range(rows):\n",
    "                for column in range(columns):\n",
    "                    print(\" * \", end='')\n",
    "                else:\n",
    "                    print(\"\\n\") # Cuando hemos acabado de dibujar las columnas hacemos un salto de linea para la siguiente row\n",
    "        else:\n",
    "            print(\"Incorrect number for columns, please only introduce a number between 1 and 9.\")\n",
    "    else:\n",
    "        print(\"Incorrect number for rows, please only introduce a number between 1 and 9.\")\n",
    "\n",
    "else:\n",
    "    # Show error and the instructions to use this script correctly\n",
    "    print(\"\\nIncorrect arguments, please follow the next instructions!\")\n",
    "    print(\"\"\"\n",
    "        You need to pass 2 arguments to this function, two\n",
    "        numbers between 1 and 9:\n",
    "        1. First number is the number of rows to construct the table.\n",
    "        2. Second number is the number of colums for each row.\n",
    "    \"\"\")\n",
    "```"
   ]
  },
  {
   "cell_type": "markdown",
   "metadata": {},
   "source": [
    "**3) [Avanzado] Crea un script llamado descomposicion.py que realice las siguientes tareas:**\n",
    "* Debe tomar 1 argumento que será un número entero positivo.\n",
    "* En caso de no recibir un argumento, debe mostrar información acerca de cómo utilizar el script.\n",
    "\n",
    "** El objetivo del script es descomponer el número en unidades, decenas, centenas, miles... tal que por ejemplo si se introduce el número:**\n",
    "\n",
    "```\n",
    "> 3647\n",
    "```\n",
    "** El programa deberá devolver una descomposición línea a línea como la siguiente utilizando las técnicas de formateo: **\n",
    "\n",
    "```\n",
    "> 0007\n",
    "  0040\n",
    "  0600\n",
    "  3000\n",
    "```\n",
    "*Pista: Que el valor sea un número no significa necesariamente que deba serlo para formatearlo. Necesitarás jugar muy bien con los índices y realizar muchas conversiones entre tipos cadenas, números y viceversa*"
   ]
  }
 ],
 "metadata": {
  "anaconda-cloud": {},
  "kernelspec": {
   "display_name": "Python 3",
   "language": "python",
   "name": "python3"
  },
  "language_info": {
   "codemirror_mode": {
    "name": "ipython",
    "version": 3
   },
   "file_extension": ".py",
   "mimetype": "text/x-python",
   "name": "python",
   "nbconvert_exporter": "python",
   "pygments_lexer": "ipython3",
   "version": "3.6.5"
  }
 },
 "nbformat": 4,
 "nbformat_minor": 1
}
