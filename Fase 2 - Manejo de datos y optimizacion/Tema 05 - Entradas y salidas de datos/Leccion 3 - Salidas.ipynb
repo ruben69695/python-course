{
 "cells": [
  {
   "cell_type": "code",
   "execution_count": 1,
   "metadata": {},
   "outputs": [
    {
     "name": "stdout",
     "output_type": "stream",
     "text": [
      "Hello Ruben cómo estas?\n"
     ]
    }
   ],
   "source": [
    "nombre = \"Ruben\"\n",
    "print(\"Hello\", nombre, \"cómo estas?\")"
   ]
  },
  {
   "cell_type": "code",
   "execution_count": 2,
   "metadata": {},
   "outputs": [
    {
     "data": {
      "text/plain": [
       "'Hello Ruben cómo estas?'"
      ]
     },
     "execution_count": 2,
     "metadata": {},
     "output_type": "execute_result"
    }
   ],
   "source": [
    "cadena = \"Hello {} cómo estas?\".format(nombre)\n",
    "cadena"
   ]
  },
  {
   "cell_type": "code",
   "execution_count": 5,
   "metadata": {},
   "outputs": [
    {
     "data": {
      "text/plain": [
       "'Me llamo Ruben Arrebola de Haro y tengo 22 años'"
      ]
     },
     "execution_count": 5,
     "metadata": {},
     "output_type": "execute_result"
    }
   ],
   "source": [
    "nombre = \"Ruben Arrebola de Haro\"\n",
    "cadena = \"Hello {name} cómo estas?\".format(name=nombre)\n",
    "cadena2 = \"Me llamo {name} y tengo {age} años\".format(name=nombre, age=22)\n",
    "cadena2"
   ]
  },
  {
   "cell_type": "code",
   "execution_count": 11,
   "metadata": {},
   "outputs": [
    {
     "name": "stdout",
     "output_type": "stream",
     "text": [
      "                       ejemplo\n",
      "ejemplo                       \n",
      "           ejemplo            \n"
     ]
    }
   ],
   "source": [
    "# Ejemplos con cadenas de caracteres\n",
    "palabra = \"ejemplo\"\n",
    "print(\"{:>30}\".format(palabra)) # Alineación a la derecha 30 caracteres vacíos hacia su izquierda\n",
    "print(\"{:30}\".format(palabra))  # Alineación a la izquierda y 30 caracteres vacíos en su derecha\n",
    "print(\"{:^30}\".format(palabra)) # Alineación centrado y 15 caracetres vacíos por lado lados, 30 / 2"
   ]
  },
  {
   "cell_type": "code",
   "execution_count": 16,
   "metadata": {},
   "outputs": [
    {
     "name": "stdout",
     "output_type": "stream",
     "text": [
      "** Alineamos los numeros a la derecha 4 caracteres **\n",
      "  10\n",
      " 100\n",
      "1000\n",
      "\n",
      "** Alineamos los numeros a la derecha 4 caracteres y rellenamos esos caracteres que falten con ceros **\n",
      "0010\n",
      "0100\n",
      "1000\n"
     ]
    }
   ],
   "source": [
    "# Ejemplo con enteros\n",
    "\n",
    "# - Alineamos los numeros a la derecha 4 caracteres\n",
    "\n",
    "print(\"** Alineamos los numeros a la derecha 4 caracteres **\")\n",
    "print(\"{:4d}\".format(10))\n",
    "print(\"{:4d}\".format(100))\n",
    "print(\"{:4d}\".format(1000))\n",
    "\n",
    "# - Alineamos los numeros a la derecha 4 caracteres y rellenamos esos caracteres que falten con ceros\n",
    "\n",
    "print(\"\\n** Alineamos los numeros a la derecha 4 caracteres y rellenamos esos caracteres que falten con ceros **\")\n",
    "print(\"{:04d}\".format(10))\n",
    "print(\"{:04d}\".format(100))\n",
    "print(\"{:04d}\".format(1000))"
   ]
  },
  {
   "cell_type": "code",
   "execution_count": 37,
   "metadata": {},
   "outputs": [
    {
     "name": "stdout",
     "output_type": "stream",
     "text": [
      "** Mantenemos los decimales con el punto a la misma altura y rellenamos con espacios lo que sobra ** \n",
      "  3.142\n",
      "167.340\n",
      "\n",
      "** Lo mismo pero rellenamos con ceros lo que sobra ** \n",
      "0003.1415\n",
      "1657.3400\n"
     ]
    }
   ],
   "source": [
    "# Ejemplo con numero flotantes\n",
    "\n",
    "# - Formateo de floatantes rellenados con espacios\n",
    "\n",
    "print(\"** Mantenemos los decimales con el punto a la misma altura y rellenamos con espacios lo que sobra ** \")\n",
    "print(\"{:7.3f}\".format(3.14152627))\n",
    "print(\"{:7.3f}\".format(167.34))\n",
    "\n",
    "print(\"\\n** Lo mismo pero rellenamos con ceros lo que sobra ** \")\n",
    "print(\"{:09.4f}\".format(3.14152627))\n",
    "print(\"{:09.4f}\".format(1657.34))"
   ]
  },
  {
   "cell_type": "code",
   "execution_count": null,
   "metadata": {},
   "outputs": [],
   "source": []
  }
 ],
 "metadata": {
  "kernelspec": {
   "display_name": "Python 3",
   "language": "python",
   "name": "python3"
  },
  "language_info": {
   "codemirror_mode": {
    "name": "ipython",
    "version": 3
   },
   "file_extension": ".py",
   "mimetype": "text/x-python",
   "name": "python",
   "nbconvert_exporter": "python",
   "pygments_lexer": "ipython3",
   "version": "3.6.5"
  }
 },
 "nbformat": 4,
 "nbformat_minor": 1
}
