{
 "cells": [
  {
   "cell_type": "code",
   "execution_count": 1,
   "metadata": {},
   "outputs": [
    {
     "data": {
      "text/plain": [
       "dict"
      ]
     },
     "execution_count": 1,
     "metadata": {},
     "output_type": "execute_result"
    }
   ],
   "source": [
    "dic = {}\n",
    "type(dic)"
   ]
  },
  {
   "cell_type": "code",
   "execution_count": 2,
   "metadata": {},
   "outputs": [
    {
     "data": {
      "text/plain": [
       "{'A': 'Arracha el leon', 'B': 'Hola Bebe!', 'C': 'Cacatua'}"
      ]
     },
     "execution_count": 2,
     "metadata": {},
     "output_type": "execute_result"
    }
   ],
   "source": [
    "dic = {\"A\": \"Arracha el leon\", \"B\": \"Hola Bebe!\", \"C\": \"Cacatua\"}\n",
    "dic"
   ]
  },
  {
   "cell_type": "code",
   "execution_count": 3,
   "metadata": {},
   "outputs": [
    {
     "data": {
      "text/plain": [
       "'Arracha el leon'"
      ]
     },
     "execution_count": 3,
     "metadata": {},
     "output_type": "execute_result"
    }
   ],
   "source": [
    "dic[\"A\"]"
   ]
  },
  {
   "cell_type": "code",
   "execution_count": 4,
   "metadata": {},
   "outputs": [
    {
     "name": "stdout",
     "output_type": "stream",
     "text": [
      "A\n",
      "B\n",
      "C\n"
     ]
    }
   ],
   "source": [
    "for letra in dic:\n",
    "    print(letra)"
   ]
  },
  {
   "cell_type": "code",
   "execution_count": 6,
   "metadata": {},
   "outputs": [
    {
     "name": "stdout",
     "output_type": "stream",
     "text": [
      "A Arracha el leon\n",
      "B Hola Bebe!\n",
      "C Cacatua\n"
     ]
    }
   ],
   "source": [
    "for letra in dic:\n",
    "    print(letra, dic[letra])"
   ]
  },
  {
   "cell_type": "code",
   "execution_count": 7,
   "metadata": {},
   "outputs": [
    {
     "name": "stdout",
     "output_type": "stream",
     "text": [
      "A Arracha el leon\n",
      "B Hola Bebe!\n",
      "C Cacatua\n"
     ]
    }
   ],
   "source": [
    "for c,v in dic.items():\n",
    "    print(c, v)"
   ]
  },
  {
   "cell_type": "code",
   "execution_count": 12,
   "metadata": {},
   "outputs": [
    {
     "name": "stdout",
     "output_type": "stream",
     "text": [
      "Aragorn Humano Está toh chetao bro\n",
      "Legolas Elfo Dónde pongo el ojo pongo la flecha\n",
      "Gimbli Enano Pequeño pero matón\n"
     ]
    }
   ],
   "source": [
    "personajesJuego = []\n",
    "p1 = {\"Nombre\": \"Aragorn\", \"Clase\": \"Guerrero\", \"Raza\": \"Humano\", \"Daño\": 78, \"Descripcion\": \"Está toh chetao bro\"}\n",
    "p2 = {\"Nombre\": \"Legolas\", \"Clase\": \"Arquero\", \"Raza\": \"Elfo\", \"Daño\": 74, \"Descripcion\": \"Dónde pongo el ojo pongo la flecha\"}\n",
    "p3 = {\"Nombre\": \"Gimbli\", \"Clase\": \"Guerrero\", \"Raza\": \"Enano\", \"Daño\": 76, \"Descripcion\": \"Pequeño pero matón\"}\n",
    "personajesJuego.append(p1)\n",
    "personajesJuego.append(p2)\n",
    "personajesJuego.append(p3)\n",
    "\n",
    "for personaje in personajesJuego:\n",
    "    print(personaje[\"Nombre\"], personaje[\"Raza\"], personaje[\"Descripcion\"])"
   ]
  },
  {
   "cell_type": "code",
   "execution_count": null,
   "metadata": {},
   "outputs": [],
   "source": []
  }
 ],
 "metadata": {
  "kernelspec": {
   "display_name": "Python 3",
   "language": "python",
   "name": "python3"
  },
  "language_info": {
   "codemirror_mode": {
    "name": "ipython",
    "version": 3
   },
   "file_extension": ".py",
   "mimetype": "text/x-python",
   "name": "python",
   "nbconvert_exporter": "python",
   "pygments_lexer": "ipython3",
   "version": "3.6.5"
  }
 },
 "nbformat": 4,
 "nbformat_minor": 1
}
