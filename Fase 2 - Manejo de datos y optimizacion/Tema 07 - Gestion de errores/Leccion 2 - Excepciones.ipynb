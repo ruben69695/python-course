{
 "cells": [
  {
   "cell_type": "code",
   "execution_count": 3,
   "metadata": {},
   "outputs": [
    {
     "name": "stdout",
     "output_type": "stream",
     "text": [
      "Introduce un numero para poder dividir:f\n",
      "Ha ocurrido una excepción\n"
     ]
    }
   ],
   "source": [
    "m = 4\n",
    "try:\n",
    "    n = float(input(\"Introduce un numero para poder dividir:\"))\n",
    "    print(\"{} / {} = {}\".format(n, m, n / m))\n",
    "except:\n",
    "    print(\"Ha ocurrido una excepción\")"
   ]
  },
  {
   "cell_type": "code",
   "execution_count": 5,
   "metadata": {},
   "outputs": [
    {
     "name": "stdout",
     "output_type": "stream",
     "text": [
      "Introduce un numero: f\n",
      "Ha ocurrido un error, introduce bien el numero\n",
      "Introduce un numero: h\n",
      "Ha ocurrido un error, introduce bien el numero\n",
      "Introduce un numero: 5\n",
      "5.0 / 4 = 1.25\n"
     ]
    }
   ],
   "source": [
    "while(True):\n",
    "    try:\n",
    "        n = float(input(\"Introduce un numero: \"))\n",
    "        print(\"{} / {} = {}\".format(n, m, n / m))\n",
    "        break\n",
    "    except:\n",
    "        print(\"Ha ocurrido un error, introduce bien el numero\")"
   ]
  },
  {
   "cell_type": "code",
   "execution_count": 6,
   "metadata": {},
   "outputs": [
    {
     "name": "stdout",
     "output_type": "stream",
     "text": [
      "Introduce un numero: 5\n",
      "5.0 / 4 = 1.25\n",
      "Todo a funcionado correctamente\n"
     ]
    }
   ],
   "source": [
    "while(True):\n",
    "    try:\n",
    "        n = float(input(\"Introduce un numero: \"))\n",
    "        print(\"{} / {} = {}\".format(n, m, n / m))\n",
    "    except:\n",
    "        print(\"Ha ocurrido un error, introduce bien el numero\")\n",
    "    else:\n",
    "        print(\"Todo a funcionado correctamente\")\n",
    "        break"
   ]
  },
  {
   "cell_type": "code",
   "execution_count": 7,
   "metadata": {},
   "outputs": [
    {
     "name": "stdout",
     "output_type": "stream",
     "text": [
      "Introduce un numero: fd\n",
      "Ha ocurrido un error, introduce bien el numero\n",
      "Fin de la iteración\n",
      "Introduce un numero: 69\n",
      "69.0 / 4 = 17.25\n",
      "Todo a funcionado correctamente\n",
      "Fin de la iteración\n"
     ]
    }
   ],
   "source": [
    "while(True):\n",
    "    try:\n",
    "        n = float(input(\"Introduce un numero: \"))\n",
    "        print(\"{} / {} = {}\".format(n, m, n / m))\n",
    "    except:\n",
    "        print(\"Ha ocurrido un error, introduce bien el numero\")\n",
    "    else:\n",
    "        print(\"Todo a funcionado correctamente\")\n",
    "        break\n",
    "    finally:\n",
    "        print(\"Fin de la iteración\")"
   ]
  },
  {
   "cell_type": "code",
   "execution_count": null,
   "metadata": {},
   "outputs": [],
   "source": []
  }
 ],
 "metadata": {
  "kernelspec": {
   "display_name": "Python 3",
   "language": "python",
   "name": "python3"
  },
  "language_info": {
   "codemirror_mode": {
    "name": "ipython",
    "version": 3
   },
   "file_extension": ".py",
   "mimetype": "text/x-python",
   "name": "python",
   "nbconvert_exporter": "python",
   "pygments_lexer": "ipython3",
   "version": "3.6.5"
  }
 },
 "nbformat": 4,
 "nbformat_minor": 1
}
