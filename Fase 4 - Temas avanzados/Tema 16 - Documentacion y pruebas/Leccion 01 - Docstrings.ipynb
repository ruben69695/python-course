{
 "cells": [
  {
   "cell_type": "markdown",
   "metadata": {},
   "source": [
    "# Docstrings"
   ]
  },
  {
   "cell_type": "markdown",
   "metadata": {},
   "source": [
    "### Methods or functions"
   ]
  },
  {
   "cell_type": "code",
   "execution_count": 6,
   "metadata": {},
   "outputs": [
    {
     "name": "stdout",
     "output_type": "stream",
     "text": [
      "Hello Ruben\n"
     ]
    }
   ],
   "source": [
    "def hello(name):\n",
    "    print(\"Hello {}\".format(name))\n",
    "\n",
    "def hello(name):\n",
    "    \"\"\"This method says hello to the name passed as parameter\n",
    "        name -> str (name of the person)\n",
    "    \"\"\"\n",
    "    print(\"Hello {}\".format(name))\n",
    "\n",
    "hello(\"Ruben\")"
   ]
  },
  {
   "cell_type": "code",
   "execution_count": 7,
   "metadata": {},
   "outputs": [
    {
     "name": "stdout",
     "output_type": "stream",
     "text": [
      "Help on function hello in module __main__:\n",
      "\n",
      "hello(name)\n",
      "    This method says hello to the name passed as parameter\n",
      "    name -> str (name of the person)\n",
      "\n"
     ]
    }
   ],
   "source": [
    "help(hello)"
   ]
  },
  {
   "cell_type": "markdown",
   "metadata": {},
   "source": [
    "### Classes"
   ]
  },
  {
   "cell_type": "code",
   "execution_count": 8,
   "metadata": {},
   "outputs": [],
   "source": [
    "class Class:\n",
    "    \"\"\"This class is an example for docstring lesson\"\"\"\n",
    "    \n",
    "    def __init__(self):\n",
    "        \"\"\"Docstring init example\"\"\"\n",
    "        pass\n",
    "    def __str__(self):\n",
    "        \"\"\"Docstring str example\"\"\"\n",
    "p = Class()"
   ]
  },
  {
   "cell_type": "code",
   "execution_count": 10,
   "metadata": {},
   "outputs": [
    {
     "name": "stdout",
     "output_type": "stream",
     "text": [
      "Help on class Class in module __main__:\n",
      "\n",
      "class Class(builtins.object)\n",
      " |  This class is an example for docstring lesson\n",
      " |  \n",
      " |  Methods defined here:\n",
      " |  \n",
      " |  __init__(self)\n",
      " |      Docstring init example\n",
      " |  \n",
      " |  __str__(self)\n",
      " |      Docstring str example\n",
      " |  \n",
      " |  ----------------------------------------------------------------------\n",
      " |  Data descriptors defined here:\n",
      " |  \n",
      " |  __dict__\n",
      " |      dictionary for instance variables (if defined)\n",
      " |  \n",
      " |  __weakref__\n",
      " |      list of weak references to the object (if defined)\n",
      "\n"
     ]
    }
   ],
   "source": [
    "help(Class)"
   ]
  },
  {
   "cell_type": "code",
   "execution_count": 11,
   "metadata": {},
   "outputs": [
    {
     "name": "stdout",
     "output_type": "stream",
     "text": [
      "Help on Class in module __main__ object:\n",
      "\n",
      "class Class(builtins.object)\n",
      " |  This class is an example for docstring lesson\n",
      " |  \n",
      " |  Methods defined here:\n",
      " |  \n",
      " |  __init__(self)\n",
      " |      Docstring init example\n",
      " |  \n",
      " |  __str__(self)\n",
      " |      Docstring str example\n",
      " |  \n",
      " |  ----------------------------------------------------------------------\n",
      " |  Data descriptors defined here:\n",
      " |  \n",
      " |  __dict__\n",
      " |      dictionary for instance variables (if defined)\n",
      " |  \n",
      " |  __weakref__\n",
      " |      list of weak references to the object (if defined)\n",
      "\n"
     ]
    }
   ],
   "source": [
    "help(p)"
   ]
  },
  {
   "cell_type": "markdown",
   "metadata": {},
   "source": [
    "### Modules"
   ]
  },
  {
   "cell_type": "code",
   "execution_count": 1,
   "metadata": {},
   "outputs": [],
   "source": [
    "import mi_modulo"
   ]
  },
  {
   "cell_type": "code",
   "execution_count": 2,
   "metadata": {},
   "outputs": [
    {
     "name": "stdout",
     "output_type": "stream",
     "text": [
      "Help on module mi_modulo:\n",
      "\n",
      "NAME\n",
      "    mi_modulo - This is the docstring of the python module\n",
      "\n",
      "FUNCTIONS\n",
      "    despedir()\n",
      "        Despedir method\n",
      "    \n",
      "    saludar()\n",
      "        Saludar method\n",
      "\n",
      "FILE\n",
      "    /Users/rubenarrebola/OneDrive/Estudios/Udemy/CursoPython/Fase 4 - Temas avanzados/Tema 16 - Documentacion y pruebas/mi_modulo.py\n",
      "\n",
      "\n"
     ]
    }
   ],
   "source": [
    "help(mi_modulo)"
   ]
  },
  {
   "cell_type": "code",
   "execution_count": 3,
   "metadata": {},
   "outputs": [
    {
     "name": "stdout",
     "output_type": "stream",
     "text": [
      "Help on function despedir in module mi_modulo:\n",
      "\n",
      "despedir()\n",
      "    Despedir method\n",
      "\n"
     ]
    }
   ],
   "source": [
    "help(mi_modulo.despedir)"
   ]
  },
  {
   "cell_type": "code",
   "execution_count": 4,
   "metadata": {},
   "outputs": [
    {
     "name": "stdout",
     "output_type": "stream",
     "text": [
      "Help on function saludar in module mi_modulo:\n",
      "\n",
      "saludar()\n",
      "    Saludar method\n",
      "\n"
     ]
    }
   ],
   "source": [
    "help(mi_modulo.saludar)"
   ]
  },
  {
   "cell_type": "markdown",
   "metadata": {},
   "source": [
    "### Packages"
   ]
  },
  {
   "cell_type": "code",
   "execution_count": 5,
   "metadata": {},
   "outputs": [],
   "source": [
    "import mi_paquete"
   ]
  },
  {
   "cell_type": "code",
   "execution_count": 6,
   "metadata": {},
   "outputs": [
    {
     "name": "stdout",
     "output_type": "stream",
     "text": [
      "Help on package mi_paquete:\n",
      "\n",
      "NAME\n",
      "    mi_paquete - This is the docstring of the package\n",
      "\n",
      "PACKAGE CONTENTS\n",
      "    adios (package)\n",
      "    hola (package)\n",
      "\n",
      "FILE\n",
      "    /Users/rubenarrebola/OneDrive/Estudios/Udemy/CursoPython/Fase 4 - Temas avanzados/Tema 16 - Documentacion y pruebas/mi_paquete/__init__.py\n",
      "\n",
      "\n"
     ]
    }
   ],
   "source": [
    "help (mi_paquete)"
   ]
  },
  {
   "cell_type": "code",
   "execution_count": null,
   "metadata": {},
   "outputs": [],
   "source": []
  }
 ],
 "metadata": {
  "anaconda-cloud": {},
  "kernelspec": {
   "display_name": "Python 3",
   "language": "python",
   "name": "python3"
  },
  "language_info": {
   "codemirror_mode": {
    "name": "ipython",
    "version": 3
   },
   "file_extension": ".py",
   "mimetype": "text/x-python",
   "name": "python",
   "nbconvert_exporter": "python",
   "pygments_lexer": "ipython3",
   "version": "3.6.5"
  }
 },
 "nbformat": 4,
 "nbformat_minor": 1
}
