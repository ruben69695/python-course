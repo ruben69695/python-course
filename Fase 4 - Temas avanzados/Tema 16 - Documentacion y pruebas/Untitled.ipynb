{
 "cells": [
  {
   "cell_type": "markdown",
   "metadata": {},
   "source": [
    "# Doctest"
   ]
  },
  {
   "cell_type": "markdown",
   "metadata": {},
   "source": [
    "### Settings test in the docstring"
   ]
  },
  {
   "cell_type": "code",
   "execution_count": 1,
   "metadata": {},
   "outputs": [],
   "source": [
    "def suma(a, b):\n",
    "    \"\"\"This function sums a + b and returns the result\"\"\"\n",
    "    return a + b"
   ]
  },
  {
   "cell_type": "code",
   "execution_count": 2,
   "metadata": {},
   "outputs": [
    {
     "data": {
      "text/plain": [
       "10"
      ]
     },
     "execution_count": 2,
     "metadata": {},
     "output_type": "execute_result"
    }
   ],
   "source": [
    "suma(5, 5)"
   ]
  },
  {
   "cell_type": "code",
   "execution_count": 5,
   "metadata": {},
   "outputs": [],
   "source": [
    "def suma(a, b):\n",
    "    \"\"\"This function sums a + b and returns the result\n",
    "    \n",
    "    >>> suma(5, 10)\n",
    "    15\n",
    "    \n",
    "    >>> suma(0, 0)\n",
    "    0\n",
    "    \n",
    "    \"\"\"\n",
    "    return a + b\n",
    "\n",
    "if __name__ == \"__main__\":\n",
    "    import doctest\n",
    "    doctest.testmod()"
   ]
  },
  {
   "cell_type": "markdown",
   "metadata": {},
   "source": [
    "### Executing the doctest of a python module (file) in a terminal\n",
    "```\n",
    "MacBook-Pro-de-Ruben:Tema 16 - Documentacion y pruebas rubenarrebola$ python test.py -v\n",
    "Trying:\n",
    "    suma(5, 10)\n",
    "Expecting:\n",
    "    15\n",
    "ok\n",
    "Trying:\n",
    "    suma(0, 0)\n",
    "Expecting:\n",
    "    0\n",
    "ok\n",
    "1 items had no tests:\n",
    "    __main__\n",
    "1 items passed all tests:\n",
    "   2 tests in __main__.suma\n",
    "2 tests in 2 items.\n",
    "2 passed and 0 failed.\n",
    "Test passed.\n",
    "MacBook-Pro-de-Ruben:Tema 16 - Documentacion y pruebas rubenarrebola$\n",
    "```"
   ]
  },
  {
   "cell_type": "code",
   "execution_count": null,
   "metadata": {},
   "outputs": [],
   "source": []
  }
 ],
 "metadata": {
  "kernelspec": {
   "display_name": "Python 3",
   "language": "python",
   "name": "python3"
  },
  "language_info": {
   "codemirror_mode": {
    "name": "ipython",
    "version": 3
   },
   "file_extension": ".py",
   "mimetype": "text/x-python",
   "name": "python",
   "nbconvert_exporter": "python",
   "pygments_lexer": "ipython3",
   "version": "3.6.5"
  }
 },
 "nbformat": 4,
 "nbformat_minor": 2
}
