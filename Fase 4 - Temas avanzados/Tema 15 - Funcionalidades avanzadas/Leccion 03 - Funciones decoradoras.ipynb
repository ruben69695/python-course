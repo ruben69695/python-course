{
 "cells": [
  {
   "cell_type": "markdown",
   "metadata": {},
   "source": [
    "# Ámbitos y funciones decoradoras"
   ]
  },
  {
   "cell_type": "markdown",
   "metadata": {},
   "source": [
    "#### NOTA: Antes de realizar esta lección debes reiniciar Jupyter Notebook para vaciar la memoria."
   ]
  },
  {
   "cell_type": "code",
   "execution_count": 4,
   "metadata": {},
   "outputs": [
    {
     "name": "stdout",
     "output_type": "stream",
     "text": [
      "{'Bienvenido': <function Hola.<locals>.Bienvenido at 0x1061c3950>, 'number': 89}\n",
      "{'__name__': '__main__', '__doc__': 'Automatically created module for IPython interactive environment', '__package__': None, '__loader__': None, '__spec__': None, '__builtin__': <module 'builtins' (built-in)>, '__builtins__': <module 'builtins' (built-in)>, '_ih': ['', 'def Hola():\\n    \\n    def Bienvenido():\\n        return (\"Welcome\")\\n    \\n    return Bienvenido()\\n\\nHola()', 'def Hola():\\n    \\n    number = 89\\n    \\n    def Bienvenido():\\n        return (\"Welcome\")\\n    \\n    print(locals())\\n    \\n    return Bienvenido()', 'def Hola():\\n    \\n    number = 89\\n    \\n    def Bienvenido():\\n        return (\"Welcome\")\\n    \\n    print(locals())\\n    \\n    return Bienvenido()\\n\\nHola()', 'def Hola():\\n    \\n    number = 89\\n    \\n    def Bienvenido():\\n        return (\"Welcome\")\\n    \\n    print(locals())\\n    \\n    return Bienvenido()\\n\\nHola()\\nprint(globals())'], '_oh': {1: 'Welcome', 3: 'Welcome'}, '_dh': ['/Users/rubenarrebola/OneDrive/Estudios/Udemy/CursoPython/Fase 4 - Temas avanzados/Tema 15 - Funcionalidades avanzadas'], 'In': ['', 'def Hola():\\n    \\n    def Bienvenido():\\n        return (\"Welcome\")\\n    \\n    return Bienvenido()\\n\\nHola()', 'def Hola():\\n    \\n    number = 89\\n    \\n    def Bienvenido():\\n        return (\"Welcome\")\\n    \\n    print(locals())\\n    \\n    return Bienvenido()', 'def Hola():\\n    \\n    number = 89\\n    \\n    def Bienvenido():\\n        return (\"Welcome\")\\n    \\n    print(locals())\\n    \\n    return Bienvenido()\\n\\nHola()', 'def Hola():\\n    \\n    number = 89\\n    \\n    def Bienvenido():\\n        return (\"Welcome\")\\n    \\n    print(locals())\\n    \\n    return Bienvenido()\\n\\nHola()\\nprint(globals())'], 'Out': {1: 'Welcome', 3: 'Welcome'}, 'get_ipython': <bound method InteractiveShell.get_ipython of <ipykernel.zmqshell.ZMQInteractiveShell object at 0x1060887f0>>, 'exit': <IPython.core.autocall.ZMQExitAutocall object at 0x1060e71d0>, 'quit': <IPython.core.autocall.ZMQExitAutocall object at 0x1060e71d0>, '_': 'Welcome', '__': 'Welcome', '___': '', '_i': 'def Hola():\\n    \\n    number = 89\\n    \\n    def Bienvenido():\\n        return (\"Welcome\")\\n    \\n    print(locals())\\n    \\n    return Bienvenido()\\n\\nHola()', '_ii': 'def Hola():\\n    \\n    number = 89\\n    \\n    def Bienvenido():\\n        return (\"Welcome\")\\n    \\n    print(locals())\\n    \\n    return Bienvenido()', '_iii': 'def Hola():\\n    \\n    def Bienvenido():\\n        return (\"Welcome\")\\n    \\n    return Bienvenido()\\n\\nHola()', '_i1': 'def Hola():\\n    \\n    def Bienvenido():\\n        return (\"Welcome\")\\n    \\n    return Bienvenido()\\n\\nHola()', 'Hola': <function Hola at 0x1061c39d8>, '_1': 'Welcome', '_i2': 'def Hola():\\n    \\n    number = 89\\n    \\n    def Bienvenido():\\n        return (\"Welcome\")\\n    \\n    print(locals())\\n    \\n    return Bienvenido()', '_i3': 'def Hola():\\n    \\n    number = 89\\n    \\n    def Bienvenido():\\n        return (\"Welcome\")\\n    \\n    print(locals())\\n    \\n    return Bienvenido()\\n\\nHola()', '_3': 'Welcome', '_i4': 'def Hola():\\n    \\n    number = 89\\n    \\n    def Bienvenido():\\n        return (\"Welcome\")\\n    \\n    print(locals())\\n    \\n    return Bienvenido()\\n\\nHola()\\nprint(globals())'}\n"
     ]
    }
   ],
   "source": [
    "def Hola():\n",
    "    \n",
    "    number = 89\n",
    "    \n",
    "    def Bienvenido():\n",
    "        return (\"Welcome\")\n",
    "    \n",
    "    print(locals())\n",
    "    \n",
    "    return Bienvenido()\n",
    "\n",
    "Hola()\n",
    "print(globals())"
   ]
  },
  {
   "cell_type": "markdown",
   "metadata": {},
   "source": [
    "## Funciones decoradoras"
   ]
  },
  {
   "cell_type": "code",
   "execution_count": 21,
   "metadata": {},
   "outputs": [
    {
     "name": "stdout",
     "output_type": "stream",
     "text": [
      "Message executed > Hello\n"
     ]
    }
   ],
   "source": [
    "def execute_message(function):\n",
    "    \n",
    "    def decorate():\n",
    "        print(\"Message executed > {}\".format(function()))\n",
    "    \n",
    "    return decorate\n",
    "\n",
    "def sayHello():\n",
    "    return \"Hello\"\n",
    "def sayGoodbye():\n",
    "    return \"Goodbye\"\n",
    "def omg():\n",
    "    return \"OMG!\"\n",
    "def cloudySkies_lilSkies_lyrics():\n",
    "    return '''\n",
    "        [Intro]\n",
    "        Girl, never lie to me\n",
    "        Ayy, girl, never lie to me\n",
    "        Duck from the flashin' lights, watch out when the tide comin'\n",
    "        All these people judgin'\n",
    "        Take a sip out the double cup, can't tell me nothin'\n",
    "        I know it's all for the better and I'm never stuntin'\n",
    "        I just want a girl who gon' really tell me somethin', ayy\n",
    "\n",
    "        [Chorus]\n",
    "        Ayy, girl, never lie to me\n",
    "        Girl would you ride for me? Pull up on the side for me\n",
    "        Duck from the flashin' lights, and watch out when the tide comin'\n",
    "        I know it's hard to be yourself when all these people judgin'\n",
    "        Take a sip out the double cup, can't tell me nothin'\n",
    "        I know it's all for the better and I'm never stuntin'\n",
    "        I just want a girl who gon' really show me somethin'\n",
    "        Give you the time of your life if you would stop frontin'\n",
    "    '''\n",
    "execute_message(sayHello)()"
   ]
  },
  {
   "cell_type": "code",
   "execution_count": 23,
   "metadata": {},
   "outputs": [],
   "source": [
    "@execute_message\n",
    "def sayHello():\n",
    "    return \"Hello\"\n",
    "\n",
    "@execute_message\n",
    "def sayGoodbye():\n",
    "    return \"Goodbye\"\n",
    "\n",
    "@execute_message\n",
    "def omg():\n",
    "    return \"OMG!\"\n",
    "\n",
    "@execute_message\n",
    "def cloudySkies_lilSkies_lyrics():\n",
    "    return '''\n",
    "        [Intro]\n",
    "        Girl, never lie to me\n",
    "        Ayy, girl, never lie to me\n",
    "        Duck from the flashin' lights, watch out when the tide comin'\n",
    "        All these people judgin'\n",
    "        Take a sip out the double cup, can't tell me nothin'\n",
    "        I know it's all for the better and I'm never stuntin'\n",
    "        I just want a girl who gon' really tell me somethin', ayy\n",
    "\n",
    "        [Chorus]\n",
    "        Ayy, girl, never lie to me\n",
    "        Girl would you ride for me? Pull up on the side for me\n",
    "        Duck from the flashin' lights, and watch out when the tide comin'\n",
    "        I know it's hard to be yourself when all these people judgin'\n",
    "        Take a sip out the double cup, can't tell me nothin'\n",
    "        I know it's all for the better and I'm never stuntin'\n",
    "        I just want a girl who gon' really show me somethin'\n",
    "        Give you the time of your life if you would stop frontin'\n",
    "\n",
    "    '''\n"
   ]
  },
  {
   "cell_type": "code",
   "execution_count": 19,
   "metadata": {},
   "outputs": [
    {
     "name": "stdout",
     "output_type": "stream",
     "text": [
      "Message executed > Goodbye\n"
     ]
    }
   ],
   "source": [
    "sayGoodbye()"
   ]
  },
  {
   "cell_type": "code",
   "execution_count": 24,
   "metadata": {},
   "outputs": [
    {
     "name": "stdout",
     "output_type": "stream",
     "text": [
      "Message executed > \n",
      "        [Intro]\n",
      "        Girl, never lie to me\n",
      "        Ayy, girl, never lie to me\n",
      "        Duck from the flashin' lights, watch out when the tide comin'\n",
      "        All these people judgin'\n",
      "        Take a sip out the double cup, can't tell me nothin'\n",
      "        I know it's all for the better and I'm never stuntin'\n",
      "        I just want a girl who gon' really tell me somethin', ayy\n",
      "\n",
      "        [Chorus]\n",
      "        Ayy, girl, never lie to me\n",
      "        Girl would you ride for me? Pull up on the side for me\n",
      "        Duck from the flashin' lights, and watch out when the tide comin'\n",
      "        I know it's hard to be yourself when all these people judgin'\n",
      "        Take a sip out the double cup, can't tell me nothin'\n",
      "        I know it's all for the better and I'm never stuntin'\n",
      "        I just want a girl who gon' really show me somethin'\n",
      "        Give you the time of your life if you would stop frontin'\n",
      "\n",
      "    \n"
     ]
    }
   ],
   "source": [
    "cloudySkies_lilSkies_lyrics()"
   ]
  },
  {
   "cell_type": "markdown",
   "metadata": {},
   "source": [
    "## Pasando argumentos al decorador"
   ]
  },
  {
   "cell_type": "code",
   "execution_count": 25,
   "metadata": {},
   "outputs": [],
   "source": [
    "def execute_message(function):\n",
    "    \n",
    "    def decorate(*args, **kwargs):\n",
    "        print(\"Message executed > {}\".format(function(*args, **kwargs)))\n",
    "    \n",
    "    return decorate"
   ]
  },
  {
   "cell_type": "code",
   "execution_count": 26,
   "metadata": {},
   "outputs": [
    {
     "name": "stdout",
     "output_type": "stream",
     "text": [
      "Message executed > Goodbye\n"
     ]
    }
   ],
   "source": [
    "sayGoodbye()"
   ]
  },
  {
   "cell_type": "code",
   "execution_count": 27,
   "metadata": {},
   "outputs": [],
   "source": [
    "@execute_message\n",
    "def sayGoodbye(name):\n",
    "    return \"Goodbye {}\".format(name)"
   ]
  },
  {
   "cell_type": "code",
   "execution_count": 28,
   "metadata": {},
   "outputs": [
    {
     "name": "stdout",
     "output_type": "stream",
     "text": [
      "Message executed > Goodbye Ruben\n"
     ]
    }
   ],
   "source": [
    "sayGoodbye(\"Ruben\")"
   ]
  },
  {
   "cell_type": "code",
   "execution_count": null,
   "metadata": {},
   "outputs": [],
   "source": []
  }
 ],
 "metadata": {
  "anaconda-cloud": {},
  "kernelspec": {
   "display_name": "Python 3",
   "language": "python",
   "name": "python3"
  },
  "language_info": {
   "codemirror_mode": {
    "name": "ipython",
    "version": 3
   },
   "file_extension": ".py",
   "mimetype": "text/x-python",
   "name": "python",
   "nbconvert_exporter": "python",
   "pygments_lexer": "ipython3",
   "version": "3.6.5"
  }
 },
 "nbformat": 4,
 "nbformat_minor": 1
}
