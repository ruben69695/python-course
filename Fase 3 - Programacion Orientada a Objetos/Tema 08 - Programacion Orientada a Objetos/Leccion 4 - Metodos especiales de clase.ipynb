{
 "cells": [
  {
   "cell_type": "code",
   "execution_count": 1,
   "metadata": {},
   "outputs": [
    {
     "name": "stdout",
     "output_type": "stream",
     "text": [
      "Se ha instanciado la pelicula El Padrino\n"
     ]
    }
   ],
   "source": [
    "class Pelicula:\n",
    "    \n",
    "    # Constructor\n",
    "    def __init__(self, titulo, duracion, lanzamiento):\n",
    "        self.titulo = titulo\n",
    "        self.duracion = duracion\n",
    "        self.lanzamiento = lanzamiento\n",
    "        print(\"Se ha instanciado la pelicula {}\".format(self.titulo))\n",
    "        \n",
    "    # Destructor\n",
    "    def __del__(self):\n",
    "        print(\"Se ha borrado la instancia de la pelicula {}\".format(self.titulo))\n",
    "        \n",
    "    # Redefinimos str\n",
    "    def __str__(self):\n",
    "        return \"{} lanzada en {} con una duracion de {} minutos\".format(self.titulo, self.lanzamiento, self.duracion)\n",
    "\n",
    "p = Pelicula(\"El Padrino\", 175, 1972)"
   ]
  },
  {
   "cell_type": "code",
   "execution_count": 2,
   "metadata": {},
   "outputs": [
    {
     "data": {
      "text/plain": [
       "'El Padrino lanzada en 1972 con una duracion de 175 minutos'"
      ]
     },
     "execution_count": 2,
     "metadata": {},
     "output_type": "execute_result"
    }
   ],
   "source": [
    "str(p)"
   ]
  },
  {
   "cell_type": "code",
   "execution_count": 3,
   "metadata": {},
   "outputs": [
    {
     "name": "stdout",
     "output_type": "stream",
     "text": [
      "Se ha instanciado la pelicula El Padrino\n",
      "Se ha borrado la instancia de la pelicula El Padrino\n"
     ]
    },
    {
     "data": {
      "text/plain": [
       "175"
      ]
     },
     "execution_count": 3,
     "metadata": {},
     "output_type": "execute_result"
    }
   ],
   "source": [
    "class Pelicula:\n",
    "    \n",
    "    # Constructor\n",
    "    def __init__(self, titulo, duracion, lanzamiento):\n",
    "        self.titulo = titulo\n",
    "        self.duracion = duracion\n",
    "        self.lanzamiento = lanzamiento\n",
    "        print(\"Se ha instanciado la pelicula {}\".format(self.titulo))\n",
    "        \n",
    "    # Destructor\n",
    "    def __del__(self):\n",
    "        print(\"Se ha borrado la instancia de la pelicula {}\".format(self.titulo))\n",
    "        \n",
    "    # Redefinimos str\n",
    "    def __str__(self):\n",
    "        return \"{} lanzada en {} con una duracion de {} minutos\".format(self.titulo, self.lanzamiento, self.duracion)\n",
    "    \n",
    "    # Redefinimos length\n",
    "    def __len__(self):\n",
    "        return self.duracion\n",
    "\n",
    "p = Pelicula(\"El Padrino\", 175, 1972)\n",
    "len(p)"
   ]
  },
  {
   "cell_type": "code",
   "execution_count": null,
   "metadata": {},
   "outputs": [],
   "source": []
  }
 ],
 "metadata": {
  "kernelspec": {
   "display_name": "Python 3",
   "language": "python",
   "name": "python3"
  },
  "language_info": {
   "codemirror_mode": {
    "name": "ipython",
    "version": 3
   },
   "file_extension": ".py",
   "mimetype": "text/x-python",
   "name": "python",
   "nbconvert_exporter": "python",
   "pygments_lexer": "ipython3",
   "version": "3.6.5"
  }
 },
 "nbformat": 4,
 "nbformat_minor": 1
}
